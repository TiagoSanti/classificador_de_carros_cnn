{
 "cells": [
  {
   "cell_type": "markdown",
   "metadata": {
    "id": "nktVfPIuK-J2"
   },
   "source": [
    "# Classificador de carros usando rede neural convolucional"
   ]
  },
  {
   "cell_type": "markdown",
   "metadata": {
    "id": "JTZr_ntSHCrC"
   },
   "source": [
    "# Imports e montagem do Drive"
   ]
  },
  {
   "cell_type": "code",
   "execution_count": null,
   "metadata": {
    "id": "OeGg9v21v-k4"
   },
   "outputs": [],
   "source": [
    "import numpy as np\n",
    "import torch\n",
    "import torchvision\n",
    "import torchvision.transforms as transforms\n",
    "import torch.nn as nn\n",
    "from torch.utils.data import DataLoader"
   ]
  },
  {
   "cell_type": "code",
   "execution_count": null,
   "metadata": {
    "colab": {
     "base_uri": "https://localhost:8080/"
    },
    "id": "4jTpl7tDZ5Z2",
    "outputId": "142ae2d5-e6a6-4224-8934-0554056c2758"
   },
   "outputs": [
    {
     "name": "stdout",
     "output_type": "stream",
     "text": [
      "Drive already mounted at /content/drive; to attempt to forcibly remount, call drive.mount(\"/content/drive\", force_remount=True).\n"
     ]
    }
   ],
   "source": [
    "from google.colab import drive\n",
    "drive.mount('/content/drive')"
   ]
  },
  {
   "cell_type": "code",
   "execution_count": null,
   "metadata": {
    "id": "4E870oQPi5BW"
   },
   "outputs": [],
   "source": [
    "import os\n",
    "\n",
    "main_dir = '/content/drive/MyDrive/IA/LIA/Seleção/datasets/'\n",
    "os.chdir(main_dir)"
   ]
  },
  {
   "cell_type": "code",
   "execution_count": null,
   "metadata": {
    "colab": {
     "base_uri": "https://localhost:8080/"
    },
    "id": "7lh6euNyjUwz",
    "outputId": "c58c3521-f8ae-4135-d6a2-8e7ff92b0322"
   },
   "outputs": [
    {
     "name": "stdout",
     "output_type": "stream",
     "text": [
      "f40.csv  fusca.csv  hilux.csv  rs3.csv\ttest  train  veneno.csv\n"
     ]
    }
   ],
   "source": [
    "!ls"
   ]
  },
  {
   "cell_type": "markdown",
   "metadata": {
    "id": "uRUTf1ToHOxC"
   },
   "source": [
    "# Download das imagens"
   ]
  },
  {
   "cell_type": "code",
   "execution_count": null,
   "metadata": {
    "id": "B2mzNSezjWOL"
   },
   "outputs": [],
   "source": [
    "import urllib.request\n",
    "\n",
    "def download_images(main_dir, urls_filename):\n",
    "    class_name = urls_filename.split('.')[-2]\n",
    "    output_dir = main_dir+os.sep+class_name\n",
    "    os.makedirs(output_dir, exist_ok=True)\n",
    "    with open(urls_filename) as f:\n",
    "        for url in f:\n",
    "            img_filename = url.split('/')[-1].replace(\"\\n\",\"\")\n",
    "            print(img_filename)\n",
    "            try:\n",
    "                response = urllib.request.urlopen(url)\n",
    "                open(output_dir+'/'+img_filename,mode=\"wb+\").write(response.read())\n",
    "            except:\n",
    "                print('Não foi possível baixar ->', url)"
   ]
  },
  {
   "cell_type": "code",
   "execution_count": null,
   "metadata": {
    "id": "N129WZeA90uy"
   },
   "outputs": [],
   "source": [
    "#download_images(main_dir,'fusca.csv')"
   ]
  },
  {
   "cell_type": "code",
   "execution_count": null,
   "metadata": {
    "id": "t-hHT6rY90Ai"
   },
   "outputs": [],
   "source": [
    "#download_images(main_dir,'f40.csv')"
   ]
  },
  {
   "cell_type": "code",
   "execution_count": null,
   "metadata": {
    "id": "PhSDH9DT9O78"
   },
   "outputs": [],
   "source": [
    "#download_images(main_dir,'hilux.csv')"
   ]
  },
  {
   "cell_type": "code",
   "execution_count": null,
   "metadata": {
    "id": "xdBAjMkcjyQL"
   },
   "outputs": [],
   "source": [
    "#download_images(main_dir,'rs3.csv')"
   ]
  },
  {
   "cell_type": "code",
   "execution_count": null,
   "metadata": {
    "id": "p00KLa64jeRb"
   },
   "outputs": [],
   "source": [
    "#download_images(main_dir,'veneno.csv')"
   ]
  },
  {
   "cell_type": "markdown",
   "metadata": {
    "id": "kzqRNjz9HZvr"
   },
   "source": [
    "# Tratamento das imagens"
   ]
  },
  {
   "cell_type": "code",
   "execution_count": null,
   "metadata": {
    "id": "z3tUZnkFkMYZ"
   },
   "outputs": [],
   "source": [
    "from PIL import Image,ImageStat\n",
    "\n",
    "def image_loader(img):\n",
    "    image = Image.open(img)\n",
    "    return image.convert('RGB')"
   ]
  },
  {
   "cell_type": "code",
   "execution_count": null,
   "metadata": {
    "id": "b0CmOH8z2nn-"
   },
   "outputs": [],
   "source": [
    "class ToNorm(object):\n",
    "    def __call__(self,img):\n",
    "        mean = torch.mean(img)\n",
    "        std  = torch.std(img)\n",
    "        return (img - mean)/std"
   ]
  },
  {
   "cell_type": "code",
   "execution_count": null,
   "metadata": {
    "id": "-gauRl-8k3_K"
   },
   "outputs": [],
   "source": [
    "transform = transforms.Compose([transforms.Resize((50,50)),\n",
    "                                transforms.ToTensor(),\n",
    "                                ToNorm()\n",
    "                            ])"
   ]
  },
  {
   "cell_type": "code",
   "execution_count": null,
   "metadata": {
    "id": "lydSkuDnlSqL"
   },
   "outputs": [],
   "source": [
    "dataset = torchvision.datasets.DatasetFolder(main_dir+'/train', loader=image_loader, extensions='jpg', transform=transform)"
   ]
  },
  {
   "cell_type": "code",
   "execution_count": null,
   "metadata": {
    "colab": {
     "base_uri": "https://localhost:8080/"
    },
    "id": "QJ5LbSUrliJZ",
    "outputId": "e724b9b3-e77c-47f6-c22a-4525e4bda681"
   },
   "outputs": [
    {
     "data": {
      "text/plain": [
       "{'f40': 0, 'fusca': 1, 'hilux': 2, 'rs3': 3, 'veneno': 4}"
      ]
     },
     "execution_count": 15,
     "metadata": {},
     "output_type": "execute_result"
    }
   ],
   "source": [
    "dataset.class_to_idx"
   ]
  },
  {
   "cell_type": "code",
   "execution_count": null,
   "metadata": {
    "colab": {
     "base_uri": "https://localhost:8080/"
    },
    "id": "ng4IE6NNlnBP",
    "outputId": "715b21bb-327c-45b7-fa6d-743f7c4f9667"
   },
   "outputs": [
    {
     "data": {
      "text/plain": [
       "7000"
      ]
     },
     "execution_count": 16,
     "metadata": {},
     "output_type": "execute_result"
    }
   ],
   "source": [
    "# 1400 imagens de cada modelo\n",
    "len(dataset)"
   ]
  },
  {
   "cell_type": "code",
   "execution_count": null,
   "metadata": {
    "id": "Ewfyr9qbluoe"
   },
   "outputs": [],
   "source": [
    "dl = DataLoader(dataset, batch_size=16, shuffle=True)"
   ]
  },
  {
   "cell_type": "code",
   "execution_count": null,
   "metadata": {
    "id": "4ZIGjeTbl1mb"
   },
   "outputs": [],
   "source": [
    "data, class_att = next(iter(dl))"
   ]
  },
  {
   "cell_type": "code",
   "execution_count": null,
   "metadata": {
    "colab": {
     "base_uri": "https://localhost:8080/"
    },
    "id": "jBIw-T9sl3oM",
    "outputId": "cc2eb6dd-2b3c-4e76-82e4-ee88cd605bca"
   },
   "outputs": [
    {
     "data": {
      "text/plain": [
       "torch.Size([16, 3, 50, 50])"
      ]
     },
     "execution_count": 19,
     "metadata": {},
     "output_type": "execute_result"
    }
   ],
   "source": [
    "data.shape"
   ]
  },
  {
   "cell_type": "code",
   "execution_count": null,
   "metadata": {
    "id": "rt_lHUPfl5eQ"
   },
   "outputs": [],
   "source": [
    "grid_img = torchvision.utils.make_grid(data, nrow=4)"
   ]
  },
  {
   "cell_type": "code",
   "execution_count": null,
   "metadata": {
    "colab": {
     "base_uri": "https://localhost:8080/"
    },
    "id": "GJe-7H-98hiH",
    "outputId": "492ccf57-4e2b-449c-9e4a-ad607b44d3aa"
   },
   "outputs": [
    {
     "data": {
      "text/plain": [
       "torch.Size([3, 210, 210])"
      ]
     },
     "execution_count": 21,
     "metadata": {},
     "output_type": "execute_result"
    }
   ],
   "source": [
    "grid_img.shape"
   ]
  },
  {
   "cell_type": "code",
   "execution_count": null,
   "metadata": {
    "colab": {
     "base_uri": "https://localhost:8080/",
     "height": 301
    },
    "id": "Or4IWJs3l7pF",
    "outputId": "173431f9-eef9-4da3-c34f-9b4c137ad4b3"
   },
   "outputs": [
    {
     "name": "stderr",
     "output_type": "stream",
     "text": [
      "Clipping input data to the valid range for imshow with RGB data ([0..1] for floats or [0..255] for integers).\n"
     ]
    },
    {
     "data": {
      "text/plain": [
       "<matplotlib.image.AxesImage at 0x7f14d30d55d0>"
      ]
     },
     "execution_count": 22,
     "metadata": {},
     "output_type": "execute_result"
    },
    {
     "data": {
      "image/png": "[encoded data removed]",
      "text/plain": [
       "<Figure size 432x288 with 1 Axes>"
      ]
     },
     "metadata": {
      "needs_background": "light"
     },
     "output_type": "display_data"
    }
   ],
   "source": [
    "import matplotlib.pyplot as plt\n",
    "\n",
    "plt.imshow(grid_img.permute(1,2,0))"
   ]
  },
  {
   "cell_type": "markdown",
   "metadata": {
    "id": "Ww9YTXMHHj-j"
   },
   "source": [
    "# Construindo modelo"
   ]
  },
  {
   "cell_type": "code",
   "execution_count": null,
   "metadata": {
    "id": "BTjYej3eUuId"
   },
   "outputs": [],
   "source": [
    "model = nn.Sequential(\n",
    "    nn.Conv2d(in_channels=3, out_channels=6, kernel_size=5),\n",
    "    nn.ReLU(),\n",
    "    nn.MaxPool2d(kernel_size=2, stride=2),\n",
    "\n",
    "    nn.Conv2d(in_channels=6, out_channels=16, kernel_size=5),\n",
    "    nn.ReLU(),\n",
    "    nn.MaxPool2d(kernel_size=2, stride=2),\n",
    "\n",
    "    nn.Flatten(),\n",
    "    nn.Linear(1296,120),\n",
    "    nn.ReLU(),\n",
    "    nn.Linear(120,84),\n",
    "    nn.ReLU(),\n",
    "    nn.Linear(84,5)\n",
    ")"
   ]
  },
  {
   "cell_type": "code",
   "execution_count": null,
   "metadata": {
    "id": "76ebIgcHmNBp"
   },
   "outputs": [],
   "source": [
    "import torchsummary"
   ]
  },
  {
   "cell_type": "code",
   "execution_count": null,
   "metadata": {
    "colab": {
     "base_uri": "https://localhost:8080/"
    },
    "id": "ZP3UDcLHmXNI",
    "outputId": "e47347f7-00da-4b6b-c75d-2ac5dc86963e"
   },
   "outputs": [
    {
     "name": "stdout",
     "output_type": "stream",
     "text": [
      "----------------------------------------------------------------\n",
      "        Layer (type)               Output Shape         Param #\n",
      "================================================================\n",
      "            Conv2d-1            [-1, 6, 46, 46]             456\n",
      "              ReLU-2            [-1, 6, 46, 46]               0\n",
      "         MaxPool2d-3            [-1, 6, 23, 23]               0\n",
      "            Conv2d-4           [-1, 16, 19, 19]           2,416\n",
      "              ReLU-5           [-1, 16, 19, 19]               0\n",
      "         MaxPool2d-6             [-1, 16, 9, 9]               0\n",
      "           Flatten-7                 [-1, 1296]               0\n",
      "            Linear-8                  [-1, 120]         155,640\n",
      "              ReLU-9                  [-1, 120]               0\n",
      "           Linear-10                   [-1, 84]          10,164\n",
      "             ReLU-11                   [-1, 84]               0\n",
      "           Linear-12                    [-1, 5]             425\n",
      "================================================================\n",
      "Total params: 169,101\n",
      "Trainable params: 169,101\n",
      "Non-trainable params: 0\n",
      "----------------------------------------------------------------\n",
      "Input size (MB): 0.03\n",
      "Forward/backward pass size (MB): 0.33\n",
      "Params size (MB): 0.65\n",
      "Estimated Total Size (MB): 1.00\n",
      "----------------------------------------------------------------\n"
     ]
    },
    {
     "name": "stderr",
     "output_type": "stream",
     "text": [
      "/usr/local/lib/python3.7/dist-packages/torch/nn/functional.py:718: UserWarning: Named tensors and all their associated APIs are an experimental feature and subject to change. Please do not use them for anything important until they are released as stable. (Triggered internally at  /pytorch/c10/core/TensorImpl.h:1156.)\n",
      "  return torch.max_pool2d(input, kernel_size, stride, padding, dilation, ceil_mode)\n"
     ]
    }
   ],
   "source": [
    "torchsummary.summary(model, (3,50,50), device='cpu')"
   ]
  },
  {
   "cell_type": "code",
   "execution_count": null,
   "metadata": {
    "id": "aVp494wrmYpp"
   },
   "outputs": [],
   "source": [
    "import torch.optim as optim"
   ]
  },
  {
   "cell_type": "code",
   "execution_count": null,
   "metadata": {
    "id": "2jBN0EfCmtwg"
   },
   "outputs": [],
   "source": [
    "opt = optim.SGD(model.parameters(), lr=0.01)"
   ]
  },
  {
   "cell_type": "code",
   "execution_count": null,
   "metadata": {
    "id": "0q3XwwMPmvMI"
   },
   "outputs": [],
   "source": [
    "criterion = nn.CrossEntropyLoss()"
   ]
  },
  {
   "cell_type": "code",
   "execution_count": null,
   "metadata": {
    "id": "zDbns3zsmxbE"
   },
   "outputs": [],
   "source": [
    "device = torch.device('cuda:0') if torch.cuda.is_available() else torch.device('cpu')"
   ]
  },
  {
   "cell_type": "code",
   "execution_count": null,
   "metadata": {
    "colab": {
     "base_uri": "https://localhost:8080/"
    },
    "id": "2embjkX4nBws",
    "outputId": "109c4583-3b2f-4eca-90e8-50f962436576"
   },
   "outputs": [
    {
     "data": {
      "text/plain": [
       "_CudaDeviceProperties(name='Tesla K80', major=3, minor=7, total_memory=11441MB, multi_processor_count=13)"
      ]
     },
     "execution_count": 30,
     "metadata": {},
     "output_type": "execute_result"
    }
   ],
   "source": [
    "torch.cuda.get_device_properties(0)"
   ]
  },
  {
   "cell_type": "code",
   "execution_count": null,
   "metadata": {
    "colab": {
     "base_uri": "https://localhost:8080/"
    },
    "id": "HCzKt50znGWi",
    "outputId": "7a675a99-6038-42fb-b283-965deee9ab62"
   },
   "outputs": [
    {
     "data": {
      "text/plain": [
       "Sequential(\n",
       "  (0): Conv2d(3, 6, kernel_size=(5, 5), stride=(1, 1))\n",
       "  (1): ReLU()\n",
       "  (2): MaxPool2d(kernel_size=2, stride=2, padding=0, dilation=1, ceil_mode=False)\n",
       "  (3): Conv2d(6, 16, kernel_size=(5, 5), stride=(1, 1))\n",
       "  (4): ReLU()\n",
       "  (5): MaxPool2d(kernel_size=2, stride=2, padding=0, dilation=1, ceil_mode=False)\n",
       "  (6): Flatten(start_dim=1, end_dim=-1)\n",
       "  (7): Linear(in_features=1296, out_features=120, bias=True)\n",
       "  (8): ReLU()\n",
       "  (9): Linear(in_features=120, out_features=84, bias=True)\n",
       "  (10): ReLU()\n",
       "  (11): Linear(in_features=84, out_features=5, bias=True)\n",
       ")"
      ]
     },
     "execution_count": 31,
     "metadata": {},
     "output_type": "execute_result"
    }
   ],
   "source": [
    "model.to(device)"
   ]
  },
  {
   "cell_type": "markdown",
   "metadata": {
    "id": "ZqajjYh5Hv-D"
   },
   "source": [
    "# Treinamento"
   ]
  },
  {
   "cell_type": "code",
   "execution_count": null,
   "metadata": {
    "colab": {
     "base_uri": "https://localhost:8080/"
    },
    "id": "46SRuQqAnKQ0",
    "outputId": "cfc68a60-5d97-4157-9020-66dbcf581bdc"
   },
   "outputs": [
    {
     "name": "stdout",
     "output_type": "stream",
     "text": [
      "1/30 1.5038717751089297\n",
      "2/30 1.3319184565108662\n",
      "3/30 1.2656471948373262\n",
      "4/30 1.2120268286363174\n",
      "5/30 1.1736538576208837\n",
      "6/30 1.125253866116206\n",
      "7/30 1.0788628430399176\n",
      "8/30 1.028264617402804\n",
      "9/30 0.9750957353610427\n",
      "10/30 0.917080469803723\n",
      "11/30 0.8546266754468282\n",
      "12/30 0.7896716589933117\n",
      "13/30 0.7252858137567294\n",
      "14/30 0.666075583258176\n",
      "15/30 0.6029396963446108\n",
      "16/30 0.5335137185780969\n",
      "17/30 0.47378522317567373\n",
      "18/30 0.3956457262850243\n",
      "19/30 0.3422278998989493\n",
      "20/30 0.2634722172074258\n",
      "21/30 0.2168121540612758\n",
      "22/30 0.1826760245329747\n",
      "23/30 0.13302525693920683\n",
      "24/30 0.11443721599686577\n",
      "25/30 0.11418007478834509\n",
      "26/30 0.0777116683665259\n",
      "27/30 0.06296250076441426\n",
      "28/30 0.03685835214549958\n",
      "29/30 0.05549737743983634\n",
      "30/30 0.04270730351828667\n"
     ]
    }
   ],
   "source": [
    "epochs = 30\n",
    "\n",
    "for epoch in range(epochs):\n",
    "    model.train()\n",
    "    loss = []\n",
    "\n",
    "    for x, y in dl:\n",
    "        x = x.to(device)\n",
    "        y = y.to(device)\n",
    "        pred = model(x)\n",
    "        closs = criterion(pred,y)\n",
    "        closs.backward()\n",
    "        opt.step()\n",
    "        opt.zero_grad()\n",
    "        loss.append(closs.item())\n",
    "    \n",
    "    print('{}/{}'.format(epoch+1, epochs), np.mean(loss))"
   ]
  },
  {
   "cell_type": "code",
   "execution_count": null,
   "metadata": {
    "id": "LeFmCujZouCU"
   },
   "outputs": [],
   "source": [
    "model.eval()\n",
    "lres = []\n",
    "ytrue = []\n",
    "with torch.no_grad():\n",
    "    for data, target in dl:\n",
    "        data = data.to(device)\n",
    "        pred = model(data)\n",
    "        res  = pred.argmax(dim=1).cpu().tolist()\n",
    "        lres += res\n",
    "        ytrue += target"
   ]
  },
  {
   "cell_type": "code",
   "execution_count": null,
   "metadata": {
    "id": "7FcutdIiozWn"
   },
   "outputs": [],
   "source": [
    "import sklearn.metrics as metrics\n",
    "from sklearn.metrics import plot_confusion_matrix"
   ]
  },
  {
   "cell_type": "code",
   "execution_count": null,
   "metadata": {
    "colab": {
     "base_uri": "https://localhost:8080/"
    },
    "id": "RDKWJ54Ao3gx",
    "outputId": "6e4a88da-3e04-4629-90cd-a0675ff523f9"
   },
   "outputs": [
    {
     "data": {
      "text/plain": [
       "0.9975714285714286"
      ]
     },
     "execution_count": 36,
     "metadata": {},
     "output_type": "execute_result"
    }
   ],
   "source": [
    "metrics.accuracy_score(ytrue, lres)"
   ]
  },
  {
   "cell_type": "markdown",
   "metadata": {
    "id": "SHLppcHlH9JG"
   },
   "source": [
    "# Testando modelo"
   ]
  },
  {
   "cell_type": "code",
   "execution_count": null,
   "metadata": {
    "id": "HSpD6pH2B8lp"
   },
   "outputs": [],
   "source": [
    "# 100 imagens de cada modelo\n",
    "ds_test = torchvision.datasets.DatasetFolder(main_dir+'/test', loader=image_loader, extensions='jpg', transform=transform)"
   ]
  },
  {
   "cell_type": "code",
   "execution_count": null,
   "metadata": {
    "colab": {
     "base_uri": "https://localhost:8080/"
    },
    "id": "oYAwmUPfDrnq",
    "outputId": "06c23a4a-a5a5-45a7-a3bf-41cd9855b51b"
   },
   "outputs": [
    {
     "data": {
      "text/plain": [
       "{'f40': 0, 'fusca': 1, 'hilux': 2, 'rs3': 3, 'veneno': 4}"
      ]
     },
     "execution_count": 38,
     "metadata": {},
     "output_type": "execute_result"
    }
   ],
   "source": [
    "ds_test.class_to_idx"
   ]
  },
  {
   "cell_type": "code",
   "execution_count": null,
   "metadata": {
    "id": "Lh3VSoIsEh5q"
   },
   "outputs": [],
   "source": [
    "test_data = DataLoader(ds_test)"
   ]
  },
  {
   "cell_type": "code",
   "execution_count": null,
   "metadata": {
    "id": "RqfNfStqFG-j"
   },
   "outputs": [],
   "source": [
    "y_pred = []\n",
    "y = []\n",
    "with torch.no_grad():\n",
    "    for data, target in test_data:\n",
    "        data = data.to(device)\n",
    "        pred = model(data)\n",
    "        res  = pred.argmax(dim=1).cpu().tolist()\n",
    "        y_pred += res\n",
    "        y += target"
   ]
  },
  {
   "cell_type": "code",
   "execution_count": null,
   "metadata": {
    "colab": {
     "base_uri": "https://localhost:8080/"
    },
    "id": "BjVlNKHjFm3V",
    "outputId": "b0cb47d7-64ef-4981-b797-78f202cd96b0"
   },
   "outputs": [
    {
     "data": {
      "text/plain": [
       "0.572"
      ]
     },
     "execution_count": 41,
     "metadata": {},
     "output_type": "execute_result"
    }
   ],
   "source": [
    "metrics.accuracy_score(y, y_pred)"
   ]
  },
  {
   "cell_type": "code",
   "execution_count": null,
   "metadata": {
    "id": "x--tu1AHLbKf"
   },
   "outputs": [],
   "source": [
    "import seaborn as sn\n",
    "import pandas as pd"
   ]
  },
  {
   "cell_type": "code",
   "execution_count": null,
   "metadata": {
    "colab": {
     "base_uri": "https://localhost:8080/",
     "height": 511
    },
    "id": "ewe0-PHGLpJG",
    "outputId": "29374bc0-f5c4-45af-8356-81c14efe54fd"
   },
   "outputs": [
    {
     "data": {
      "text/plain": [
       "<matplotlib.axes._subplots.AxesSubplot at 0x7f14afa6f910>"
      ]
     },
     "execution_count": 43,
     "metadata": {},
     "output_type": "execute_result"
    },
    {
     "data": {
      "image/png": "[encoded data removed]",
      "text/plain": [
       "<Figure size 720x576 with 2 Axes>"
      ]
     },
     "metadata": {
      "needs_background": "light"
     },
     "output_type": "display_data"
    }
   ],
   "source": [
    "cm = metrics.confusion_matrix(y, y_pred)\n",
    "df_cm = pd.DataFrame(cm, index   = [i for i in ds_test.classes],\n",
    "                         columns = [i for i in ds_test.classes])\n",
    "\n",
    "plt.figure(figsize=(10,8))\n",
    "sn.set(font_scale=1.3)\n",
    "sn.heatmap(df_cm, annot=True, vmin=0, vmax=100, cbar=True, square=True)"
   ]
  }
 ],
 "metadata": {
  "accelerator": "GPU",
  "colab": {
   "collapsed_sections": [],
   "name": "Classificador de Carros com CNN.ipynb",
   "provenance": []
  },
  "kernelspec": {
   "display_name": "Python 3 (ipykernel)",
   "language": "python",
   "name": "python3"
  },
  "language_info": {
   "codemirror_mode": {
    "name": "ipython",
    "version": 3
   },
   "file_extension": ".py",
   "mimetype": "text/x-python",
   "name": "python",
   "nbconvert_exporter": "python",
   "pygments_lexer": "ipython3",
   "version": "3.9.1"
  }
 },
 "nbformat": 4,
 "nbformat_minor": 1
}
